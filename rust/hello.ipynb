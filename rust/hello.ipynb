{
 "cells": [
  {
   "cell_type": "code",
   "execution_count": 9,
   "id": "9837579d",
   "metadata": {},
   "outputs": [
    {
     "name": "stdout",
     "output_type": "stream",
     "text": [
      "hello\n"
     ]
    }
   ],
   "source": [
    "println!(\"hello\");"
   ]
  },
  {
   "cell_type": "code",
   "execution_count": 10,
   "id": "371fbb79",
   "metadata": {},
   "outputs": [
    {
     "name": "stdout",
     "output_type": "stream",
     "text": [
      "Debian\n"
     ]
    }
   ],
   "source": [
    "use std::env;\n",
    "let home = env::var(\"WSL_DISTRO_NAME\").unwrap();\n",
    "println!(\"{}\", home);"
   ]
  },
  {
   "cell_type": "code",
   "execution_count": 11,
   "id": "5cbd2137",
   "metadata": {},
   "outputs": [
    {
     "name": "stdout",
     "output_type": "stream",
     "text": [
      "19\n"
     ]
    }
   ],
   "source": [
    ":dep rand = \"0.8.3\"\n",
    "use rand::prelude::*;\n",
    "let x: u8 = random();\n",
    "println!(\"{}\", x);"
   ]
  },
  {
   "cell_type": "code",
   "execution_count": 12,
   "id": "be9dd2c9",
   "metadata": {},
   "outputs": [
    {
     "name": "stdout",
     "output_type": "stream",
     "text": [
      "19\n"
     ]
    }
   ],
   "source": [
    "println!(\"{}\", x);"
   ]
  },
  {
   "cell_type": "code",
   "execution_count": 13,
   "id": "a9a51973",
   "metadata": {},
   "outputs": [],
   "source": [
    "let y: u8 = random();"
   ]
  },
  {
   "cell_type": "code",
   "execution_count": 14,
   "id": "337e83dd",
   "metadata": {},
   "outputs": [
    {
     "name": "stderr",
     "output_type": "stream",
     "text": [
      "[src/lib.rs:114] \"hello\" = \"hello\"\n"
     ]
    }
   ],
   "source": [
    "dbg!(\"hello\");"
   ]
  },
  {
   "cell_type": "code",
   "execution_count": null,
   "id": "9bcbab47",
   "metadata": {},
   "outputs": [],
   "source": []
  }
 ],
 "metadata": {
  "kernelspec": {
   "display_name": "Rust",
   "language": "rust",
   "name": "rust"
  },
  "language_info": {
   "codemirror_mode": "rust",
   "file_extension": ".rs",
   "mimetype": "text/rust",
   "name": "Rust",
   "pygment_lexer": "rust",
   "version": ""
  },
  "toc-autonumbering": false,
  "toc-showmarkdowntxt": false
 },
 "nbformat": 4,
 "nbformat_minor": 5
}