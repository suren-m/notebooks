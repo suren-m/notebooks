{
 "cells": [
  {
   "cell_type": "code",
   "execution_count": 2,
   "id": "02993b97",
   "metadata": {},
   "outputs": [
    {
     "name": "stdout",
     "output_type": "stream",
     "text": [
      "hello\n"
     ]
    }
   ],
   "source": [
    "println!(\"hello\");"
   ]
  },
  {
   "cell_type": "code",
   "execution_count": 6,
   "id": "37262f65",
   "metadata": {},
   "outputs": [
    {
     "name": "stdout",
     "output_type": "stream",
     "text": [
      "Debian\n"
     ]
    }
   ],
   "source": [
    "use std::env;\n",
    "let home = env::var(\"WSL_DISTRO_NAME\").unwrap();\n",
    "println!(\"{}\", home);"
   ]
  },
  {
   "cell_type": "code",
   "execution_count": 5,
   "id": "7220f0a2",
   "metadata": {},
   "outputs": [
    {
     "name": "stdout",
     "output_type": "stream",
     "text": [
      "200\n"
     ]
    }
   ],
   "source": [
    ":dep rand = \"0.8.3\"\n",
    "use rand::prelude::*;\n",
    "let x: u8 = random();\n",
    "println!(\"{}\", x);"
   ]
  },
  {
   "cell_type": "code",
   "execution_count": 6,
   "id": "35c44d7f",
   "metadata": {},
   "outputs": [
    {
     "name": "stdout",
     "output_type": "stream",
     "text": [
      "200\n"
     ]
    }
   ],
   "source": [
    "println!(\"{}\", x);"
   ]
  },
  {
   "cell_type": "code",
   "execution_count": 7,
   "id": "20c141cd",
   "metadata": {},
   "outputs": [],
   "source": [
    "let y: u8 = random();"
   ]
  },
  {
   "cell_type": "code",
   "execution_count": null,
   "id": "f9f94f4b",
   "metadata": {},
   "outputs": [],
   "source": []
  }
 ],
 "metadata": {
  "kernelspec": {
   "display_name": "Rust",
   "language": "rust",
   "name": "rust"
  },
  "language_info": {
   "codemirror_mode": "rust",
   "file_extension": ".rs",
   "mimetype": "text/rust",
   "name": "Rust",
   "pygment_lexer": "rust",
   "version": ""
  },
  "toc-autonumbering": false,
  "toc-showmarkdowntxt": false
 },
 "nbformat": 4,
 "nbformat_minor": 5
}
