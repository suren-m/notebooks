{
 "cells": [
  {
   "cell_type": "code",
   "execution_count": 17,
   "id": "86f8819e",
   "metadata": {},
   "outputs": [
    {
     "name": "stdout",
     "output_type": "stream",
     "text": [
      "Hello\n"
     ]
    }
   ],
   "source": [
    "Console.WriteLine(\"Hello\");"
   ]
  },
  {
   "cell_type": "code",
   "execution_count": null,
   "id": "6c875fff",
   "metadata": {},
   "outputs": [],
   "source": [
    "#r \"nuget:Newtonsoft.Json\""
   ]
  },
  {
   "cell_type": "code",
   "execution_count": 15,
   "id": "d2a39974",
   "metadata": {},
   "outputs": [],
   "source": [
    "using Newtonsoft.Json;\n",
    "class Product {\n",
    "    public String Name { get; set; }\n",
    "    public DateTime Expiry { get; set; }\n",
    "    public String[] Sizes { get; set; }\n",
    "}\n",
    "\n",
    "Product product = new Product();\n",
    "product.Name = \"Apple\";\n",
    "product.Expiry = new DateTime(2008, 12, 28);\n",
    "product.Sizes = new string[] { \"Small\" };\n",
    "\n",
    "string json = JsonConvert.SerializeObject(product);"
   ]
  },
  {
   "cell_type": "code",
   "execution_count": 18,
   "id": "87cfcf9c",
   "metadata": {},
   "outputs": [
    {
     "name": "stdout",
     "output_type": "stream",
     "text": [
      "{\"Name\":\"Apple\",\"Expiry\":\"2008-12-28T00:00:00\",\"Sizes\":[\"Small\"]}\n"
     ]
    }
   ],
   "source": [
    "Console.WriteLine(json);"
   ]
  },
  {
   "cell_type": "code",
   "execution_count": null,
   "id": "6194d9c4",
   "metadata": {},
   "outputs": [],
   "source": []
  }
 ],
 "metadata": {
  "kernelspec": {
   "display_name": ".NET (C#)",
   "language": "C#",
   "name": ".net-csharp"
  },
  "language_info": {
   "file_extension": ".cs",
   "mimetype": "text/x-csharp",
   "name": "C#",
   "pygments_lexer": "csharp",
   "version": "8.0"
  }
 },
 "nbformat": 4,
 "nbformat_minor": 5
}
